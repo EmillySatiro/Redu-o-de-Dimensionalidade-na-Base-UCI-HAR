{
 "cells": [
  {
   "cell_type": "markdown",
   "id": "df3b83fe",
   "metadata": {},
   "source": [
    "# Preparação de Dados\n",
    "Faça o download do dataset UCI HAR.\n",
    "\n",
    "Carregue os dados em Python.\n",
    "\n",
    "Identifique número de amostras, atributos e classes.\n"
   ]
  },
  {
   "cell_type": "code",
   "execution_count": 22,
   "id": "073b284d",
   "metadata": {},
   "outputs": [],
   "source": [
    "#Importação das bibliotecas necessárias\n",
    "import pandas as pd\n",
    "import os"
   ]
  },
  {
   "cell_type": "code",
   "execution_count": 23,
   "id": "7d61bd9a",
   "metadata": {},
   "outputs": [
    {
     "name": "stdout",
     "output_type": "stream",
     "text": [
      "Número de amostras: 10299\n",
      "Número de atributos: 561\n",
      "Número de classes: 6\n",
      "Classes: ['WALKING', 'WALKING_UPSTAIRS', 'WALKING_DOWNSTAIRS', 'SITTING', 'STANDING', 'LAYING']\n"
     ]
    }
   ],
   "source": [
    "# Caminho base para o dataset\n",
    "dataset_path = 'C:\\\\Users\\\\walis\\\\Documents\\\\Facul\\\\Redu-o-de-Dimensionalidade-na-Base-UCI-HAR\\\\UCI HAR Dataset'\n",
    "\n",
    "# Features\n",
    "features = pd.read_csv(os.path.join(dataset_path, 'UCI HAR Dataset/features.txt'), \n",
    "                       sep=r'\\s+', header=None, names=['id','name'])\n",
    "feature_names = features['name'].tolist()\n",
    "\n",
    "# Labels das atividades\n",
    "activity_labels = pd.read_csv(os.path.join(dataset_path, 'UCI HAR Dataset/activity_labels.txt'), \n",
    "                              sep=r'\\s+', header=None, names=['id','label'])\n",
    "class_names = activity_labels['label'].tolist()\n",
    "\n",
    "# Carregar dados de treino\n",
    "X_train = pd.read_csv(os.path.join(dataset_path, 'UCI HAR Dataset/train/X_train.txt'), \n",
    "                      sep=r'\\s+', header=None)\n",
    "y_train = pd.read_csv(os.path.join(dataset_path, 'UCI HAR Dataset/train/y_train.txt'), \n",
    "                      sep=r'\\s+', header=None)\n",
    "\n",
    "# Carregar dados de teste\n",
    "X_test = pd.read_csv(os.path.join(dataset_path, 'UCI HAR Dataset/test/X_test.txt'), \n",
    "                     sep=r'\\s+', header=None)\n",
    "y_test = pd.read_csv(os.path.join(dataset_path, 'UCI HAR Dataset/test/y_test.txt'), \n",
    "                     sep=r'\\s+', header=None)\n",
    "\n",
    "# Combinar dados\n",
    "X = pd.concat([X_train, X_test], axis=0).reset_index(drop=True)\n",
    "y = pd.concat([y_train, y_test], axis=0).reset_index(drop=True)\n",
    "\n",
    "# Checar consistência\n",
    "assert X.shape[1] == len(feature_names), \"Número de colunas de X diferente do número de features!\"\n",
    "\n",
    "# Atribuir nomes\n",
    "X.columns = feature_names\n",
    "\n",
    "# Informações\n",
    "print(\"Número de amostras:\", X.shape[0])\n",
    "print(\"Número de atributos:\", X.shape[1])\n",
    "print(\"Número de classes:\", len(class_names))\n",
    "print(\"Classes:\", class_names)"
   ]
  }
 ],
 "metadata": {
  "kernelspec": {
   "display_name": "Python 3",
   "language": "python",
   "name": "python3"
  },
  "language_info": {
   "codemirror_mode": {
    "name": "ipython",
    "version": 3
   },
   "file_extension": ".py",
   "mimetype": "text/x-python",
   "name": "python",
   "nbconvert_exporter": "python",
   "pygments_lexer": "ipython3",
   "version": "3.12.3"
  }
 },
 "nbformat": 4,
 "nbformat_minor": 5
}
